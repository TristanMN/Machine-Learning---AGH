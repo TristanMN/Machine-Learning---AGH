{
 "cells": [
  {
   "cell_type": "code",
   "execution_count": 88,
   "id": "cb3b34dd",
   "metadata": {
    "id": "cb3b34dd",
    "outputId": "9ac71ffa-6b84-4171-bc13-ea995becc42e"
   },
   "outputs": [
    {
     "name": "stdout",
     "output_type": "stream",
     "text": [
      "Accuracy: 0.9466666666666667 4\n",
      "Accuracy: 0.9333333333333333 5\n",
      "Accuracy: 0.92 6\n",
      "Accuracy: 0.92 6\n",
      "Accuracy: 0.96 3\n",
      "Accuracy: 0.96 3\n",
      "Accuracy: 0.96 3\n",
      "Accuracy: 0.9733333333333334 2\n",
      "Accuracy: 0.9733333333333334 2\n"
     ]
    },
    {
     "data": {
      "image/png": "[encoded data removed]",
      "text/plain": [
       "<Figure size 640x480 with 1 Axes>"
      ]
     },
     "metadata": {},
     "output_type": "display_data"
    }
   ],
   "source": [
    "import numpy as np\n",
    "import pandas as pd\n",
    "import matplotlib.pyplot as plt\n",
    "import sklearn\n",
    "from sklearn.linear_model import LogisticRegression\n",
    "from sklearn import datasets\n",
    "from sklearn.model_selection import train_test_split\n",
    "from scipy.spatial import distance\n",
    "from sklearn.metrics import accuracy_score\n",
    "\n",
    "#1\n",
    "\n",
    "iris = datasets.load_iris()\n",
    "X = iris.data\n",
    "y = iris.target\n",
    "X_train, X_test, y_train, y_test = train_test_split(X,y, train_size = 0.5, test_size = 0.5, random_state = 13)\n",
    "\n",
    "class KNN:\n",
    "    def __init__(self, k):\n",
    "        self.k = k\n",
    "\n",
    "    def fit(self, X, y):\n",
    "        self.X_train = X\n",
    "        self.y_train = y\n",
    "\n",
    "    def predict(self, X_test):\n",
    "        predictions = []\n",
    "        for i in range(len(X_test)):\n",
    "            distances = np.sqrt(np.sum((self.X_train - X_test[i])**2, axis=1))\n",
    "            k_nearest_neighbors = np.argsort(distances)[:self.k]\n",
    "            k_nearest_labels = self.y_train[k_nearest_neighbors]\n",
    "            labels, counts = np.unique(k_nearest_labels, return_counts=True)\n",
    "            predictions.append(labels[np.argmax(counts)])\n",
    "        return predictions\n",
    "\n",
    "error = []\n",
    "for k in range(1,10):\n",
    "    knn = KNN(k=k)\n",
    "    knn.fit(X_train, y_train)\n",
    "    y_pred = knn.predict(X_test)\n",
    "    accuracy = accuracy_score(y_test, y_pred)\n",
    "    accuracynnorm = accuracy_score(y_test, y_pred, normalize = False)\n",
    "    error.append(len(y_test) - accuracynnorm)\n",
    "    print('Accuracy:', accuracy, len(y_test) - accuracynnorm)\n",
    "\n",
    "plt.plot(np.linspace(1,9,9), error)\n",
    "plt.show()"
   ]
  },
  {
   "cell_type": "code",
   "execution_count": 89,
   "id": "bac18424",
   "metadata": {
    "id": "bac18424",
    "outputId": "465f4658-8c01-4036-9078-d9eab6d49ffc"
   },
   "outputs": [
    {
     "name": "stdout",
     "output_type": "stream",
     "text": [
      "Accuracy: 0.9466666666666667 4\n",
      "Accuracy: 0.9333333333333333 5\n",
      "Accuracy: 0.92 6\n",
      "Accuracy: 0.92 6\n",
      "Accuracy: 0.96 3\n",
      "Accuracy: 0.96 3\n",
      "Accuracy: 0.96 3\n",
      "Accuracy: 0.9733333333333334 2\n",
      "Accuracy: 0.9733333333333334 2\n"
     ]
    }
   ],
   "source": [
    "#2\n",
    "\n",
    "from sklearn.neighbors import KNeighborsClassifier\n",
    "\n",
    "for k in range(1,10):\n",
    "    knn = KNeighborsClassifier(n_neighbors=k)\n",
    "    knn.fit(X_train, y_train)\n",
    "    y_pred = knn.predict(X_test)\n",
    "    accuracy = accuracy_score(y_test, y_pred)\n",
    "    accuracynnorm = accuracy_score(y_test, y_pred, normalize = False)\n",
    "    print('Accuracy:', accuracy, len(y_test) - accuracynnorm)"
   ]
  },
  {
   "cell_type": "code",
   "execution_count": 90,
   "id": "a80b9c6f",
   "metadata": {
    "id": "a80b9c6f",
    "outputId": "9e09f895-ec72-495a-e5b1-c0516bd6e455"
   },
   "outputs": [
    {
     "name": "stdout",
     "output_type": "stream",
     "text": [
      "[0]\n",
      "[[1. 0. 0.]]\n"
     ]
    }
   ],
   "source": [
    "#3\n",
    "\n",
    "from sklearn import tree\n",
    "clf = tree.DecisionTreeClassifier()\n",
    "clf.fit(iris.data, iris.target)\n",
    "print(clf.predict(iris.data[:1, :]))\n",
    "print(clf.predict_proba(iris.data[:1, :]))"
   ]
  },
  {
   "cell_type": "code",
   "execution_count": 91,
   "id": "1b8714d2",
   "metadata": {
    "id": "1b8714d2"
   },
   "outputs": [
    {
     "data": {
      "text/plain": [
       "True"
      ]
     },
     "execution_count": 91,
     "metadata": {},
     "output_type": "execute_result"
    }
   ],
   "source": [
    "from six import StringIO  \n",
    "import pydot \n",
    "dot_data = StringIO() \n",
    "tree.export_graphviz(clf, out_file=dot_data) \n",
    "graph = pydot.graph_from_dot_data(dot_data.getvalue()) \n",
    "graph[0].write(\"iris.png\")"
   ]
  },
  {
   "cell_type": "code",
   "execution_count": 92,
   "id": "8314ffd5",
   "metadata": {},
   "outputs": [
    {
     "name": "stdout",
     "output_type": "stream",
     "text": [
      "x_train shape: (60000, 28, 28, 1)\n",
      "60000 train samples\n",
      "10000 test samples\n"
     ]
    }
   ],
   "source": [
    "from tensorflow import keras\n",
    "from tensorflow.keras import layers\n",
    "\n",
    "num_classes = 10\n",
    "input_shape = (28, 28, 1)\n",
    "\n",
    "#3.1\n",
    "\n",
    "# Load the data and split it between train and test sets\n",
    "(x_train, y_train), (x_test, y_test) = keras.datasets.mnist.load_data()\n",
    "\n",
    "# Scale images to the [0, 1] range\n",
    "x_train = x_train.astype(\"float32\") / 255\n",
    "x_test = x_test.astype(\"float32\") / 255\n",
    "# Make sure images have shape (28, 28, 1)\n",
    "x_train = np.expand_dims(x_train, -1)\n",
    "x_test = np.expand_dims(x_test, -1)\n",
    "\n",
    "#3.2\n",
    "\n",
    "print(\"x_train shape:\", x_train.shape)\n",
    "print(x_train.shape[0], \"train samples\")\n",
    "print(x_test.shape[0], \"test samples\")\n",
    "\n",
    "\n",
    "# convert class vectors to binary class matrices\n",
    "y_train = keras.utils.to_categorical(y_train, num_classes)\n",
    "y_test = keras.utils.to_categorical(y_test, num_classes)"
   ]
  },
  {
   "cell_type": "code",
   "execution_count": 93,
   "id": "e2a32571",
   "metadata": {},
   "outputs": [],
   "source": [
    "def plot_mnist(images, titles, h, w, n_row=3, n_col=4):\n",
    "    plt.figure(figsize=(1.8 * n_col, 2.4 * n_row))\n",
    "    plt.subplots_adjust(bottom=0, left=.01, right=.99, top=.90, hspace=.05)\n",
    "    for i in range(n_row * n_col):\n",
    "        plt.subplot(n_row, n_col, i + 1)\n",
    "        plt.imshow(images[i].reshape((h, w)).T, cmap=plt.cm.gray)\n",
    "        plt.title(titles[i], size=12)\n",
    "        plt.xticks(())\n",
    "        plt.yticks(())"
   ]
  },
  {
   "cell_type": "code",
   "execution_count": 94,
   "id": "31f5c242",
   "metadata": {
    "scrolled": true
   },
   "outputs": [
    {
     "name": "stderr",
     "output_type": "stream",
     "text": [
      "C:\\Users\\Tristan\\AppData\\Local\\Programs\\Python\\Python311\\Lib\\site-packages\\matplotlib\\text.py:1279: FutureWarning: elementwise comparison failed; returning scalar instead, but in the future will perform elementwise comparison\n",
      "  if s != self._text:\n"
     ]
    },
    {
     "data": {
      "image/png": "[encoded data removed]",
      "text/plain": [
       "<Figure size 720x720 with 12 Axes>"
      ]
     },
     "metadata": {},
     "output_type": "display_data"
    }
   ],
   "source": [
    "#3.3\n",
    "\n",
    "plot_mnist(x_train, y_train, 28, 28)"
   ]
  },
  {
   "cell_type": "code",
   "execution_count": 100,
   "id": "3731447d",
   "metadata": {},
   "outputs": [],
   "source": [
    "#3.4\n",
    "\n",
    "x = np.vstack((x_train, x_test))\n",
    "y = np.vstack((y_train, y_test))\n",
    "x_train, x_test, y_train, y_test = train_test_split(x,y, train_size = 0.7, test_size = 0.3, random_state = 13)"
   ]
  },
  {
   "cell_type": "code",
   "execution_count": 110,
   "id": "6cbd0191",
   "metadata": {},
   "outputs": [
    {
     "name": "stdout",
     "output_type": "stream",
     "text": [
      "[[1. 0. 0. ... 0. 0. 0.]\n",
      " [0. 0. 0. ... 1. 0. 0.]\n",
      " [0. 0. 0. ... 0. 0. 1.]\n",
      " ...\n",
      " [1. 0. 0. ... 0. 0. 0.]\n",
      " [0. 0. 0. ... 0. 0. 0.]\n",
      " [0. 0. 1. ... 0. 0. 0.]]\n"
     ]
    }
   ],
   "source": [
    "#3.5\n",
    "\n",
    "x_train_flat = x_train.reshape((x_train.shape[0], -1))\n",
    "x_test_flat = x_test.reshape((x_test.shape[0], -1))\n",
    "\n",
    "clf = tree.DecisionTreeClassifier(max_depth=10)\n",
    "clf.fit(x_train_flat, y_train)\n",
    "y_pred = clf.predict(x_test_flat)\n",
    "print(y_pred)"
   ]
  },
  {
   "cell_type": "code",
   "execution_count": 116,
   "id": "5790a36e",
   "metadata": {},
   "outputs": [
    {
     "name": "stdout",
     "output_type": "stream",
     "text": [
      "0.8580650138826197\n",
      "[[1963    2   37   12    1   20   12    2   22    5]\n",
      " [  53 2109   23    7    9   12    4    9   15    4]\n",
      " [ 190   27 1746   36   31   17   23   29   49   25]\n",
      " [ 200   19   50 1739   16  107    9   14   57   34]\n",
      " [ 112    9    5    0 1698    9   19    9   20  106]\n",
      " [ 149   14   16   67   29 1436   47    7   52   23]\n",
      " [ 126   18   30    2   27   39 1803    3   17    6]\n",
      " [ 169   17   50   12   26    8    2 1884    5   48]\n",
      " [ 173   37   65   59   34   46   33    5 1526   72]\n",
      " [ 144    8   13   26  113   46   15   34   38 1655]]\n",
      "              precision    recall  f1-score   support\n",
      "\n",
      "     class 0       0.93      0.92      0.93      2076\n",
      "     class 1       0.93      0.94      0.94      2245\n",
      "     class 2       0.86      0.80      0.83      2173\n",
      "     class 3       0.89      0.77      0.83      2245\n",
      "     class 4       0.86      0.85      0.86      1987\n",
      "     class 5       0.83      0.78      0.80      1840\n",
      "     class 6       0.92      0.87      0.89      2071\n",
      "     class 7       0.94      0.85      0.89      2221\n",
      "     class 8       0.85      0.74      0.79      2050\n",
      "     class 9       0.84      0.79      0.81      2092\n",
      "\n",
      "   micro avg       0.89      0.83      0.86     21000\n",
      "   macro avg       0.88      0.83      0.86     21000\n",
      "weighted avg       0.89      0.83      0.86     21000\n",
      " samples avg       0.83      0.83      0.83     21000\n",
      "\n"
     ]
    },
    {
     "name": "stderr",
     "output_type": "stream",
     "text": [
      "C:\\Users\\Tristan\\AppData\\Local\\Programs\\Python\\Python311\\Lib\\site-packages\\sklearn\\metrics\\_classification.py:1344: UndefinedMetricWarning: Precision and F-score are ill-defined and being set to 0.0 in samples with no predicted labels. Use `zero_division` parameter to control this behavior.\n",
      "  _warn_prf(average, modifier, msg_start, len(result))\n"
     ]
    }
   ],
   "source": [
    "#3.6\n",
    "\n",
    "print(f1_score(y_test, y_pred, average=\"weighted\"))\n",
    "\n",
    "y_test_labels = np.argmax(y_test, axis=1)\n",
    "y_pred_labels = np.argmax(y_pred, axis=1)\n",
    "print(confusion_matrix(y_test_labels, y_pred_labels))\n",
    "\n",
    "target_names = ['class 0', 'class 1', 'class 2', 'class 3', 'class 4', 'class 5', 'class 6', 'class 7', 'class 8', 'class 9']\n",
    "print(classification_report(y_test, y_pred, target_names=target_names))"
   ]
  },
  {
   "cell_type": "code",
   "execution_count": null,
   "id": "eb62d7f6",
   "metadata": {},
   "outputs": [],
   "source": []
  }
 ],
 "metadata": {
  "colab": {
   "provenance": []
  },
  "kernelspec": {
   "display_name": "Python 3 (ipykernel)",
   "language": "python",
   "name": "python3"
  },
  "language_info": {
   "codemirror_mode": {
    "name": "ipython",
    "version": 3
   },
   "file_extension": ".py",
   "mimetype": "text/x-python",
   "name": "python",
   "nbconvert_exporter": "python",
   "pygments_lexer": "ipython3",
   "version": "3.11.1"
  }
 },
 "nbformat": 4,
 "nbformat_minor": 5
}
